{
 "cells": [
  {
   "cell_type": "code",
   "execution_count": 13,
   "metadata": {},
   "outputs": [],
   "source": [
    "import pandas as pd\n",
    "from datetime import timedelta\n",
    "import seaborn as sns\n",
    "import matplotlib.pyplot as plt\n",
    "plt.rc('font', size=12)\n",
    "\n",
    "# Filter out deprecated warnings\n",
    "import warnings\n",
    "warnings.filterwarnings(\"ignore\")"
   ]
  },
  {
   "cell_type": "code",
   "execution_count": 14,
   "metadata": {},
   "outputs": [],
   "source": [
    "data = pd.read_excel('../../data/market_data.xlsx')"
   ]
  },
  {
   "cell_type": "code",
   "execution_count": 15,
   "metadata": {},
   "outputs": [],
   "source": [
    "vic_data = data[['Time (UTC+10)', 'Regions VIC Trading Price ($/MWh)', \n",
    "                 'Regions VIC Trading Total Intermittent Generation (MW)', \n",
    "                 'Regions VIC Operational Demand (MW)']]"
   ]
  },
  {
   "cell_type": "code",
   "execution_count": 16,
   "metadata": {},
   "outputs": [],
   "source": [
    "TIME = 'Time (UTC+10)'\n",
    "PRICE = 'Regions VIC Trading Price ($/MWh)'\n",
    "GENERATION = 'Regions VIC Trading Total Intermittent Generation (MW)'\n",
    "DEMAND = 'Regions VIC Operational Demand (MW)'"
   ]
  },
  {
   "cell_type": "code",
   "execution_count": 41,
   "metadata": {
    "scrolled": true
   },
   "outputs": [],
   "source": [
    "# 3rd deliverable\n",
    "#vic_data.loc[(vic_data[TIME] >= '2020-07-17 00:00:00') & (vic_data[TIME] < '2020-07-18 00:00:00')]\n",
    "\n",
    "# Max price is 163.47 at 18:00\n",
    "# Revenue = (580 * 0.9) * 163.47 = 85331.34\n",
    "# 0.9 = discharge efficiency\n",
    "\n",
    "# Since the battery starts the day discharged, \n",
    "# price is 79.09\n",
    "# Revenue = (580 * 0.9) * 79.09 = 41284.98\n",
    "\n",
    "# Minimum price of 39.75 at 14:00:00\n",
    "# Cost = (580 * 0.9 ) * 39.75 = 20749.5\n",
    "\n",
    "# Profit = 41284.98 - 20749.5 + 85331.34 = 105866.82"
   ]
  },
  {
   "cell_type": "code",
   "execution_count": 17,
   "metadata": {},
   "outputs": [],
   "source": [
    "vic_data['weekday'] = vic_data[TIME].apply(lambda t: t.weekday())\n",
    "\n",
    "# Add 1 to weekday, so 1 will represent Monday ... 7 represents Sunday\n",
    "vic_data['weekday'] = vic_data['weekday'] + 1\n",
    "\n",
    "vic_data['hour'] = vic_data[TIME].apply(lambda t: t.hour)"
   ]
  },
  {
   "cell_type": "code",
   "execution_count": 40,
   "metadata": {},
   "outputs": [
    {
     "data": {
      "text/html": [
       "<div>\n",
       "<style scoped>\n",
       "    .dataframe tbody tr th:only-of-type {\n",
       "        vertical-align: middle;\n",
       "    }\n",
       "\n",
       "    .dataframe tbody tr th {\n",
       "        vertical-align: top;\n",
       "    }\n",
       "\n",
       "    .dataframe thead th {\n",
       "        text-align: right;\n",
       "    }\n",
       "</style>\n",
       "<table border=\"1\" class=\"dataframe\">\n",
       "  <thead>\n",
       "    <tr style=\"text-align: right;\">\n",
       "      <th></th>\n",
       "      <th>Time (UTC+10)</th>\n",
       "      <th>Regions VIC Trading Price ($/MWh)</th>\n",
       "      <th>Regions VIC Trading Total Intermittent Generation (MW)</th>\n",
       "      <th>Regions VIC Operational Demand (MW)</th>\n",
       "      <th>weekday</th>\n",
       "      <th>hour</th>\n",
       "    </tr>\n",
       "  </thead>\n",
       "  <tbody>\n",
       "    <tr>\n",
       "      <th>36511</th>\n",
       "      <td>2020-01-31 15:30:00</td>\n",
       "      <td>14700.0</td>\n",
       "      <td>144.50</td>\n",
       "      <td>9283</td>\n",
       "      <td>5</td>\n",
       "      <td>15</td>\n",
       "    </tr>\n",
       "    <tr>\n",
       "      <th>36514</th>\n",
       "      <td>2020-01-31 17:00:00</td>\n",
       "      <td>14700.0</td>\n",
       "      <td>113.91</td>\n",
       "      <td>9667</td>\n",
       "      <td>5</td>\n",
       "      <td>17</td>\n",
       "    </tr>\n",
       "  </tbody>\n",
       "</table>\n",
       "</div>"
      ],
      "text/plain": [
       "            Time (UTC+10)  Regions VIC Trading Price ($/MWh)  \\\n",
       "36511 2020-01-31 15:30:00                            14700.0   \n",
       "36514 2020-01-31 17:00:00                            14700.0   \n",
       "\n",
       "       Regions VIC Trading Total Intermittent Generation (MW)  \\\n",
       "36511                                             144.50        \n",
       "36514                                             113.91        \n",
       "\n",
       "       Regions VIC Operational Demand (MW)  weekday  hour  \n",
       "36511                                 9283        5    15  \n",
       "36514                                 9667        5    17  "
      ]
     },
     "execution_count": 40,
     "metadata": {},
     "output_type": "execute_result"
    }
   ],
   "source": [
    "vic_data[vic_data[PRICE] == 14700]"
   ]
  },
  {
   "cell_type": "code",
   "execution_count": 18,
   "metadata": {},
   "outputs": [
    {
     "data": {
      "text/html": [
       "<div>\n",
       "<style scoped>\n",
       "    .dataframe tbody tr th:only-of-type {\n",
       "        vertical-align: middle;\n",
       "    }\n",
       "\n",
       "    .dataframe tbody tr th {\n",
       "        vertical-align: top;\n",
       "    }\n",
       "\n",
       "    .dataframe thead th {\n",
       "        text-align: right;\n",
       "    }\n",
       "</style>\n",
       "<table border=\"1\" class=\"dataframe\">\n",
       "  <thead>\n",
       "    <tr style=\"text-align: right;\">\n",
       "      <th></th>\n",
       "      <th>Regions VIC Trading Price ($/MWh)</th>\n",
       "      <th>Regions VIC Trading Total Intermittent Generation (MW)</th>\n",
       "      <th>Regions VIC Operational Demand (MW)</th>\n",
       "      <th>hour</th>\n",
       "    </tr>\n",
       "    <tr>\n",
       "      <th>weekday</th>\n",
       "      <th></th>\n",
       "      <th></th>\n",
       "      <th></th>\n",
       "      <th></th>\n",
       "    </tr>\n",
       "  </thead>\n",
       "  <tbody>\n",
       "    <tr>\n",
       "      <th>1</th>\n",
       "      <td>74.303080</td>\n",
       "      <td>170.225486</td>\n",
       "      <td>5172.871803</td>\n",
       "      <td>11.500000</td>\n",
       "    </tr>\n",
       "    <tr>\n",
       "      <th>2</th>\n",
       "      <td>77.155654</td>\n",
       "      <td>173.422223</td>\n",
       "      <td>5233.259149</td>\n",
       "      <td>11.500000</td>\n",
       "    </tr>\n",
       "    <tr>\n",
       "      <th>3</th>\n",
       "      <td>79.834678</td>\n",
       "      <td>158.304530</td>\n",
       "      <td>5235.694665</td>\n",
       "      <td>11.500000</td>\n",
       "    </tr>\n",
       "    <tr>\n",
       "      <th>4</th>\n",
       "      <td>100.062319</td>\n",
       "      <td>168.041322</td>\n",
       "      <td>5298.832231</td>\n",
       "      <td>11.500000</td>\n",
       "    </tr>\n",
       "    <tr>\n",
       "      <th>5</th>\n",
       "      <td>95.853342</td>\n",
       "      <td>173.862479</td>\n",
       "      <td>5261.262015</td>\n",
       "      <td>11.500000</td>\n",
       "    </tr>\n",
       "    <tr>\n",
       "      <th>6</th>\n",
       "      <td>63.338851</td>\n",
       "      <td>176.760521</td>\n",
       "      <td>4766.736993</td>\n",
       "      <td>11.500000</td>\n",
       "    </tr>\n",
       "    <tr>\n",
       "      <th>7</th>\n",
       "      <td>60.586150</td>\n",
       "      <td>162.554547</td>\n",
       "      <td>4610.075014</td>\n",
       "      <td>11.498726</td>\n",
       "    </tr>\n",
       "  </tbody>\n",
       "</table>\n",
       "</div>"
      ],
      "text/plain": [
       "         Regions VIC Trading Price ($/MWh)  \\\n",
       "weekday                                      \n",
       "1                                74.303080   \n",
       "2                                77.155654   \n",
       "3                                79.834678   \n",
       "4                               100.062319   \n",
       "5                                95.853342   \n",
       "6                                63.338851   \n",
       "7                                60.586150   \n",
       "\n",
       "         Regions VIC Trading Total Intermittent Generation (MW)  \\\n",
       "weekday                                                           \n",
       "1                                               170.225486        \n",
       "2                                               173.422223        \n",
       "3                                               158.304530        \n",
       "4                                               168.041322        \n",
       "5                                               173.862479        \n",
       "6                                               176.760521        \n",
       "7                                               162.554547        \n",
       "\n",
       "         Regions VIC Operational Demand (MW)       hour  \n",
       "weekday                                                  \n",
       "1                                5172.871803  11.500000  \n",
       "2                                5233.259149  11.500000  \n",
       "3                                5235.694665  11.500000  \n",
       "4                                5298.832231  11.500000  \n",
       "5                                5261.262015  11.500000  \n",
       "6                                4766.736993  11.500000  \n",
       "7                                4610.075014  11.498726  "
      ]
     },
     "execution_count": 18,
     "metadata": {},
     "output_type": "execute_result"
    }
   ],
   "source": [
    "# Average data according to day of the week and hour of the day\n",
    "day_df = vic_data.groupby(by=['weekday']).mean()\n",
    "day_df"
   ]
  },
  {
   "cell_type": "code",
   "execution_count": 19,
   "metadata": {},
   "outputs": [
    {
     "data": {
      "text/html": [
       "<div>\n",
       "<style scoped>\n",
       "    .dataframe tbody tr th:only-of-type {\n",
       "        vertical-align: middle;\n",
       "    }\n",
       "\n",
       "    .dataframe tbody tr th {\n",
       "        vertical-align: top;\n",
       "    }\n",
       "\n",
       "    .dataframe thead th {\n",
       "        text-align: right;\n",
       "    }\n",
       "</style>\n",
       "<table border=\"1\" class=\"dataframe\">\n",
       "  <thead>\n",
       "    <tr style=\"text-align: right;\">\n",
       "      <th></th>\n",
       "      <th>Regions VIC Trading Price ($/MWh)</th>\n",
       "      <th>Regions VIC Trading Total Intermittent Generation (MW)</th>\n",
       "      <th>Regions VIC Operational Demand (MW)</th>\n",
       "      <th>weekday</th>\n",
       "    </tr>\n",
       "    <tr>\n",
       "      <th>hour</th>\n",
       "      <th></th>\n",
       "      <th></th>\n",
       "      <th></th>\n",
       "      <th></th>\n",
       "    </tr>\n",
       "  </thead>\n",
       "  <tbody>\n",
       "    <tr>\n",
       "      <th>0</th>\n",
       "      <td>73.535406</td>\n",
       "      <td>168.893127</td>\n",
       "      <td>4917.977316</td>\n",
       "      <td>3.998866</td>\n",
       "    </tr>\n",
       "    <tr>\n",
       "      <th>1</th>\n",
       "      <td>59.881176</td>\n",
       "      <td>167.541751</td>\n",
       "      <td>4605.240923</td>\n",
       "      <td>3.997731</td>\n",
       "    </tr>\n",
       "    <tr>\n",
       "      <th>2</th>\n",
       "      <td>50.280231</td>\n",
       "      <td>167.586672</td>\n",
       "      <td>4323.489032</td>\n",
       "      <td>3.997731</td>\n",
       "    </tr>\n",
       "    <tr>\n",
       "      <th>3</th>\n",
       "      <td>44.901725</td>\n",
       "      <td>168.617943</td>\n",
       "      <td>4161.896747</td>\n",
       "      <td>3.997731</td>\n",
       "    </tr>\n",
       "    <tr>\n",
       "      <th>4</th>\n",
       "      <td>45.044890</td>\n",
       "      <td>170.399119</td>\n",
       "      <td>4153.913389</td>\n",
       "      <td>3.997731</td>\n",
       "    </tr>\n",
       "    <tr>\n",
       "      <th>5</th>\n",
       "      <td>53.206536</td>\n",
       "      <td>171.673253</td>\n",
       "      <td>4335.626702</td>\n",
       "      <td>3.997731</td>\n",
       "    </tr>\n",
       "    <tr>\n",
       "      <th>6</th>\n",
       "      <td>68.447829</td>\n",
       "      <td>171.079032</td>\n",
       "      <td>4751.221256</td>\n",
       "      <td>3.997731</td>\n",
       "    </tr>\n",
       "    <tr>\n",
       "      <th>7</th>\n",
       "      <td>83.800015</td>\n",
       "      <td>167.880855</td>\n",
       "      <td>5177.510968</td>\n",
       "      <td>3.997731</td>\n",
       "    </tr>\n",
       "    <tr>\n",
       "      <th>8</th>\n",
       "      <td>82.669977</td>\n",
       "      <td>165.098385</td>\n",
       "      <td>5371.386157</td>\n",
       "      <td>3.997731</td>\n",
       "    </tr>\n",
       "    <tr>\n",
       "      <th>9</th>\n",
       "      <td>73.020832</td>\n",
       "      <td>162.072012</td>\n",
       "      <td>5340.475794</td>\n",
       "      <td>3.997731</td>\n",
       "    </tr>\n",
       "    <tr>\n",
       "      <th>10</th>\n",
       "      <td>66.929198</td>\n",
       "      <td>161.792844</td>\n",
       "      <td>5187.602874</td>\n",
       "      <td>3.997731</td>\n",
       "    </tr>\n",
       "    <tr>\n",
       "      <th>11</th>\n",
       "      <td>68.976169</td>\n",
       "      <td>162.663839</td>\n",
       "      <td>5053.854766</td>\n",
       "      <td>3.997731</td>\n",
       "    </tr>\n",
       "    <tr>\n",
       "      <th>12</th>\n",
       "      <td>59.051838</td>\n",
       "      <td>164.702640</td>\n",
       "      <td>4985.175113</td>\n",
       "      <td>3.997731</td>\n",
       "    </tr>\n",
       "    <tr>\n",
       "      <th>13</th>\n",
       "      <td>58.603748</td>\n",
       "      <td>167.356297</td>\n",
       "      <td>4981.610061</td>\n",
       "      <td>3.997731</td>\n",
       "    </tr>\n",
       "    <tr>\n",
       "      <th>14</th>\n",
       "      <td>66.800998</td>\n",
       "      <td>169.419066</td>\n",
       "      <td>5039.478064</td>\n",
       "      <td>3.997731</td>\n",
       "    </tr>\n",
       "    <tr>\n",
       "      <th>15</th>\n",
       "      <td>84.696237</td>\n",
       "      <td>171.316044</td>\n",
       "      <td>5167.106278</td>\n",
       "      <td>3.997731</td>\n",
       "    </tr>\n",
       "    <tr>\n",
       "      <th>16</th>\n",
       "      <td>109.979554</td>\n",
       "      <td>172.365790</td>\n",
       "      <td>5423.051437</td>\n",
       "      <td>3.997731</td>\n",
       "    </tr>\n",
       "    <tr>\n",
       "      <th>17</th>\n",
       "      <td>133.097065</td>\n",
       "      <td>171.669221</td>\n",
       "      <td>5759.472390</td>\n",
       "      <td>3.997731</td>\n",
       "    </tr>\n",
       "    <tr>\n",
       "      <th>18</th>\n",
       "      <td>159.403994</td>\n",
       "      <td>171.090446</td>\n",
       "      <td>6024.045764</td>\n",
       "      <td>3.997731</td>\n",
       "    </tr>\n",
       "    <tr>\n",
       "      <th>19</th>\n",
       "      <td>123.641275</td>\n",
       "      <td>172.102958</td>\n",
       "      <td>5965.678896</td>\n",
       "      <td>3.997731</td>\n",
       "    </tr>\n",
       "    <tr>\n",
       "      <th>20</th>\n",
       "      <td>98.721165</td>\n",
       "      <td>174.002564</td>\n",
       "      <td>5752.543116</td>\n",
       "      <td>3.997731</td>\n",
       "    </tr>\n",
       "    <tr>\n",
       "      <th>21</th>\n",
       "      <td>82.248899</td>\n",
       "      <td>174.280541</td>\n",
       "      <td>5450.015507</td>\n",
       "      <td>3.997731</td>\n",
       "    </tr>\n",
       "    <tr>\n",
       "      <th>22</th>\n",
       "      <td>72.232791</td>\n",
       "      <td>172.651952</td>\n",
       "      <td>5102.747731</td>\n",
       "      <td>3.997731</td>\n",
       "    </tr>\n",
       "    <tr>\n",
       "      <th>23</th>\n",
       "      <td>70.755545</td>\n",
       "      <td>170.445371</td>\n",
       "      <td>4961.566566</td>\n",
       "      <td>3.997731</td>\n",
       "    </tr>\n",
       "  </tbody>\n",
       "</table>\n",
       "</div>"
      ],
      "text/plain": [
       "      Regions VIC Trading Price ($/MWh)  \\\n",
       "hour                                      \n",
       "0                             73.535406   \n",
       "1                             59.881176   \n",
       "2                             50.280231   \n",
       "3                             44.901725   \n",
       "4                             45.044890   \n",
       "5                             53.206536   \n",
       "6                             68.447829   \n",
       "7                             83.800015   \n",
       "8                             82.669977   \n",
       "9                             73.020832   \n",
       "10                            66.929198   \n",
       "11                            68.976169   \n",
       "12                            59.051838   \n",
       "13                            58.603748   \n",
       "14                            66.800998   \n",
       "15                            84.696237   \n",
       "16                           109.979554   \n",
       "17                           133.097065   \n",
       "18                           159.403994   \n",
       "19                           123.641275   \n",
       "20                            98.721165   \n",
       "21                            82.248899   \n",
       "22                            72.232791   \n",
       "23                            70.755545   \n",
       "\n",
       "      Regions VIC Trading Total Intermittent Generation (MW)  \\\n",
       "hour                                                           \n",
       "0                                            168.893127        \n",
       "1                                            167.541751        \n",
       "2                                            167.586672        \n",
       "3                                            168.617943        \n",
       "4                                            170.399119        \n",
       "5                                            171.673253        \n",
       "6                                            171.079032        \n",
       "7                                            167.880855        \n",
       "8                                            165.098385        \n",
       "9                                            162.072012        \n",
       "10                                           161.792844        \n",
       "11                                           162.663839        \n",
       "12                                           164.702640        \n",
       "13                                           167.356297        \n",
       "14                                           169.419066        \n",
       "15                                           171.316044        \n",
       "16                                           172.365790        \n",
       "17                                           171.669221        \n",
       "18                                           171.090446        \n",
       "19                                           172.102958        \n",
       "20                                           174.002564        \n",
       "21                                           174.280541        \n",
       "22                                           172.651952        \n",
       "23                                           170.445371        \n",
       "\n",
       "      Regions VIC Operational Demand (MW)   weekday  \n",
       "hour                                                 \n",
       "0                             4917.977316  3.998866  \n",
       "1                             4605.240923  3.997731  \n",
       "2                             4323.489032  3.997731  \n",
       "3                             4161.896747  3.997731  \n",
       "4                             4153.913389  3.997731  \n",
       "5                             4335.626702  3.997731  \n",
       "6                             4751.221256  3.997731  \n",
       "7                             5177.510968  3.997731  \n",
       "8                             5371.386157  3.997731  \n",
       "9                             5340.475794  3.997731  \n",
       "10                            5187.602874  3.997731  \n",
       "11                            5053.854766  3.997731  \n",
       "12                            4985.175113  3.997731  \n",
       "13                            4981.610061  3.997731  \n",
       "14                            5039.478064  3.997731  \n",
       "15                            5167.106278  3.997731  \n",
       "16                            5423.051437  3.997731  \n",
       "17                            5759.472390  3.997731  \n",
       "18                            6024.045764  3.997731  \n",
       "19                            5965.678896  3.997731  \n",
       "20                            5752.543116  3.997731  \n",
       "21                            5450.015507  3.997731  \n",
       "22                            5102.747731  3.997731  \n",
       "23                            4961.566566  3.997731  "
      ]
     },
     "execution_count": 19,
     "metadata": {},
     "output_type": "execute_result"
    }
   ],
   "source": [
    "hour_df = vic_data.groupby(by=['hour']).mean()\n",
    "hour_df"
   ]
  },
  {
   "cell_type": "code",
   "execution_count": 20,
   "metadata": {},
   "outputs": [
    {
     "data": {
      "text/plain": [
       "<AxesSubplot:xlabel='weekday', ylabel='Regions VIC Trading Price ($/MWh)'>"
      ]
     },
     "execution_count": 20,
     "metadata": {},
     "output_type": "execute_result"
    },
    {
     "data": {
      "image/png": "[encoded data removed]",
      "text/plain": [
       "<Figure size 432x288 with 1 Axes>"
      ]
     },
     "metadata": {
      "needs_background": "light"
     },
     "output_type": "display_data"
    }
   ],
   "source": [
    "sns.lineplot(x=vic_data['weekday'], y=vic_data[PRICE], ci=95)"
   ]
  },
  {
   "cell_type": "code",
   "execution_count": 21,
   "metadata": {},
   "outputs": [
    {
     "data": {
      "text/plain": [
       "<AxesSubplot:xlabel='weekday', ylabel='Regions VIC Operational Demand (MW)'>"
      ]
     },
     "execution_count": 21,
     "metadata": {},
     "output_type": "execute_result"
    },
    {
     "data": {
      "image/png": "[encoded data removed]",
      "text/plain": [
       "<Figure size 432x288 with 1 Axes>"
      ]
     },
     "metadata": {
      "needs_background": "light"
     },
     "output_type": "display_data"
    }
   ],
   "source": [
    "sns.lineplot(x=vic_data['weekday'], y=vic_data[DEMAND], ci=95)"
   ]
  },
  {
   "cell_type": "code",
   "execution_count": 22,
   "metadata": {
    "scrolled": true
   },
   "outputs": [
    {
     "data": {
      "text/plain": [
       "<AxesSubplot:xlabel='hour', ylabel='Regions VIC Trading Price ($/MWh)'>"
      ]
     },
     "execution_count": 22,
     "metadata": {},
     "output_type": "execute_result"
    },
    {
     "data": {
      "image/png": "[encoded data removed]",
      "text/plain": [
       "<Figure size 432x288 with 1 Axes>"
      ]
     },
     "metadata": {
      "needs_background": "light"
     },
     "output_type": "display_data"
    }
   ],
   "source": [
    "sns.lineplot(x=vic_data['hour'], y=vic_data[PRICE], ci = 95)"
   ]
  },
  {
   "cell_type": "code",
   "execution_count": 23,
   "metadata": {},
   "outputs": [
    {
     "data": {
      "text/plain": [
       "<AxesSubplot:xlabel='hour', ylabel='Regions VIC Operational Demand (MW)'>"
      ]
     },
     "execution_count": 23,
     "metadata": {},
     "output_type": "execute_result"
    },
    {
     "data": {
      "image/png": "[encoded data removed]",
      "text/plain": [
       "<Figure size 432x288 with 1 Axes>"
      ]
     },
     "metadata": {
      "needs_background": "light"
     },
     "output_type": "display_data"
    }
   ],
   "source": [
    "sns.lineplot(x=vic_data['hour'], y=vic_data[DEMAND], ci=95)"
   ]
  }
 ],
 "metadata": {
  "kernelspec": {
   "display_name": "Python 3 (Anaconda 3)",
   "language": "python",
   "name": "python3"
  },
  "language_info": {
   "codemirror_mode": {
    "name": "ipython",
    "version": 3
   },
   "file_extension": ".py",
   "mimetype": "text/x-python",
   "name": "python",
   "nbconvert_exporter": "python",
   "pygments_lexer": "ipython3",
   "version": "3.8.2"
  }
 },
 "nbformat": 4,
 "nbformat_minor": 2
}
