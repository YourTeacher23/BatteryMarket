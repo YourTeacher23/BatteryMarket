{
 "cells": [
  {
   "cell_type": "code",
   "execution_count": 2,
   "metadata": {},
   "outputs": [],
   "source": [
    "import pandas as pd\n",
    "from datetime import timedelta\n",
    "import seaborn as sns\n",
    "import matplotlib.pyplot as plt\n",
    "import numpy as np\n",
    "import math\n",
    "import time\n",
    "plt.rc('font', size=12)\n",
    "\n",
    "# Filter out deprecated warnings\n",
    "import warnings\n",
    "warnings.filterwarnings(\"ignore\")"
   ]
  },
  {
   "cell_type": "code",
   "execution_count": 3,
   "metadata": {},
   "outputs": [],
   "source": [
    "data = pd.read_csv('../kennedy/victoria.csv')\n",
    "data1 = data"
   ]
  },
  {
   "cell_type": "code",
   "execution_count": 4,
   "metadata": {},
   "outputs": [],
   "source": [
    "TIME = 'Time (UTC+10)'\n",
    "PRICE = 'Regions VIC Trading Price ($/MWh)'\n",
    "GENERATION = 'Regions VIC Trading Total Intermittent Generation (MW)'\n",
    "DEMAND = 'Regions VIC Operational Demand (MW)'\n",
    "\n",
    "POWER = 300\n",
    "CAPACITY = 580\n",
    "CHARGE_EFF = 90\n",
    "DISCHARGE_EFF = 90\n",
    "MLF = 0.991\n",
    "FIXED_OP = 8.1\n",
    "VAR_OP = 0"
   ]
  },
  {
   "cell_type": "code",
   "execution_count": 5,
   "metadata": {},
   "outputs": [],
   "source": [
    "vic = data[[TIME, PRICE, GENERATION, DEMAND]]\n",
    "\n",
    "# Since the first date is at 00:00:00, the first period should be 48\n",
    "period = [48]\n",
    "x = 1\n",
    "while x < len(vic):\n",
    "    for i in range(48):\n",
    "        period.append(i+1)\n",
    "        x += 1\n",
    "\n",
    "vic.insert(1, 'Period', period)"
   ]
  },
  {
   "cell_type": "code",
   "execution_count": 6,
   "metadata": {},
   "outputs": [],
   "source": [
    "def first_cycle(spot_price):\n",
    "    \"\"\" Returns first indexes of the first periods for the first cycles \"\"\"\n",
    "    \n",
    "    max_price = 0\n",
    "    min_price = 999999\n",
    "\n",
    "    for i in range(48-6):\n",
    "        \"\"\" Finds which 6 periods have the most sum and least sum \n",
    "            by going through 1 to 6, 2 to 7 and so on \"\"\"\n",
    "\n",
    "        curr = spot_price.iloc[i:i+6 ,0].sum()\n",
    "\n",
    "        if curr < min_price:\n",
    "            min_price = curr\n",
    "            min_i = i  # Stores the first index of the max period\n",
    "\n",
    "        if curr > max_price:\n",
    "\n",
    "            max_price = curr\n",
    "            max_i = i  # Stores the first index of the min period\n",
    "            \n",
    "    min_, max_ = store_index(min_i, max_i)\n",
    "                \n",
    "    return min_, max_"
   ]
  },
  {
   "cell_type": "code",
   "execution_count": 7,
   "metadata": {},
   "outputs": [],
   "source": [
    "def sec_cycle(spot_price, min_index, max_index):\n",
    "    \"\"\" Returns first indexes of the first periods for the second cycles \"\"\"\n",
    "    \n",
    "    remaining = list(spot_price.index)\n",
    "    sec_min_price = 999999\n",
    "    sec_max_price = 0\n",
    "    to_remove = min_index + max_index\n",
    "    \n",
    "    # remove all periods after max\n",
    "    remaining = remaining[:remaining.index(to_remove[-1])+1]\n",
    "    \n",
    "    for index in to_remove:\n",
    "        remaining.remove(index)\n",
    "\n",
    "    for i in range(len(remaining) - 6):\n",
    "\n",
    "        # make sure the next six indexes are increment of 1\n",
    "        if remaining[i] == (remaining[i+5] - 5):\n",
    "\n",
    "            curr_sum = spot_price.iloc[remaining[i]:remaining[i]+6 ,0].sum()\n",
    "\n",
    "            if curr_sum < sec_min_price:\n",
    "                sec_min_price = curr_sum\n",
    "                sec_min_i = remaining[i]  # Stores the first index of the second max period\n",
    "\n",
    "            if curr_sum > sec_max_price:\n",
    "\n",
    "                sec_max_price = curr_sum\n",
    "                sec_max_i = remaining[i]  # Stores the first index of the second min period\n",
    "                \n",
    "    min_, max_ = store_index(sec_min_i, sec_max_i)\n",
    "    \n",
    "    min_index += min_\n",
    "    max_index += max_\n",
    "                \n",
    "    return min_index, max_index"
   ]
  },
  {
   "cell_type": "code",
   "execution_count": 8,
   "metadata": {},
   "outputs": [],
   "source": [
    "def store_index(index1, index2):\n",
    "    \"\"\" Store the rest of the max and min price indexes \"\"\"\n",
    "    list1 = []\n",
    "    list2 = []\n",
    "    for i in range(6):\n",
    "        list1.append(index1 + i)\n",
    "        list2.append(index2 + i)\n",
    "        \n",
    "    return list1, list2"
   ]
  },
  {
   "cell_type": "code",
   "execution_count": 9,
   "metadata": {},
   "outputs": [],
   "source": [
    "def algorithm2(ori_df):\n",
    "    \"\"\" Finds optimal charge and discharge period from the mean \"\"\"\n",
    "    \n",
    "    spot_price = ori_df.groupby(['Period'])[[PRICE]].mean()\n",
    "    \n",
    "    # First cycle\n",
    "    min_index, max_index = first_cycle(spot_price)\n",
    "\n",
    "    # Second cycle\n",
    "    # Comment line 11 if only want one cycle\n",
    "    min_index, max_index = sec_cycle(spot_price, min_index, max_index)\n",
    "\n",
    "    # the charge and discharge period are fixed in Algorithm 2, +1 to get their periods\n",
    "    charge_period = list(np.asarray(min_index) + 1)\n",
    "    discharge_period = list(np.asarray(max_index) + 1)\n",
    "    \n",
    "    return charge_period, discharge_period, "
   ]
  },
  {
   "cell_type": "code",
   "execution_count": 10,
   "metadata": {},
   "outputs": [],
   "source": [
    "def create_df(ori_df):\n",
    "    \"\"\" Returns a proper dataframe with columns needed \"\"\"\n",
    "\n",
    "    df = ori_df[[TIME, 'Period', PRICE]]\n",
    "    df['raw_power'] = 0\n",
    "    df['dispatch'] = 0\n",
    "    df['revenue'] = 0\n",
    "    df['opening'] = 0\n",
    "    df['closing'] = 0\n",
    "    df['revenue'] = 0\n",
    "    \n",
    "    \n",
    "    # I removed the first row because first row of vic is 00:00:00, \n",
    "    # which is the last period from the previous day\n",
    "    df = df.drop([0], axis=0) \n",
    "    \n",
    "    return df"
   ]
  },
  {
   "cell_type": "code",
   "execution_count": 11,
   "metadata": {},
   "outputs": [],
   "source": [
    "def find_all(ori_df):\n",
    "    \"\"\" Returns a completed dataframe \"\"\"\n",
    "    \"\"\" This is the main function, calling this function will automatically run all other functions \"\"\"\n",
    "    \n",
    "    start = time.time()\n",
    "    \n",
    "    charge_period, discharge_period = algorithm2(ori_df)\n",
    "    \n",
    "    df = create_df(ori_df)\n",
    "    \n",
    "    for i in list(df.index):\n",
    "\n",
    "        period = df.at[i, \"Period\"]\n",
    "        price = df.at[i, PRICE]\n",
    "\n",
    "        \"\"\" Find Opening Cap \"\"\"\n",
    "        # Starts from 1 because the first row was removed\n",
    "        if i != 1:\n",
    "            df.at[i,\"opening\"] = df.at[i-1,\"closing\"]\n",
    "\n",
    "        opening_cap = math.ceil(df.at[i, \"opening\"])\n",
    "\n",
    "\n",
    "\n",
    "\n",
    "        \"\"\" Find raw_power \"\"\"\n",
    "        if period in charge_period:\n",
    "            df.at[i, \"raw_power\"] = -math.floor(min(POWER,(CAPACITY-opening_cap)/(CHARGE_EFF/100)*2))\n",
    "\n",
    "        elif period in discharge_period:\n",
    "            df.at[i, \"raw_power\"] = math.floor(min(POWER,opening_cap/(DISCHARGE_EFF/100)*2))\n",
    "\n",
    "        rawPower = df.at[i, \"raw_power\"]\n",
    "\n",
    "\n",
    "\n",
    "\n",
    "        \"\"\" Find dispatch \"\"\"\n",
    "        if rawPower < 0:\n",
    "            eff = 1\n",
    "\n",
    "        else:\n",
    "            eff = DISCHARGE_EFF / 100\n",
    "\n",
    "        df.at[i,\"dispatch\"] = math.ceil(rawPower / 2 * eff)\n",
    "        dispatch = df.at[i, \"dispatch\"]\n",
    "\n",
    "\n",
    "\n",
    "        \"\"\" Find Closing Cap \"\"\"\n",
    "        if dispatch < 0:\n",
    "            eff = CHARGE_EFF / 100\n",
    "\n",
    "        else:\n",
    "            eff = 100 / DISCHARGE_EFF\n",
    "\n",
    "        df.at[i,\"closing\"] = math.ceil(max(0, min((opening_cap - (dispatch * eff)), CAPACITY)))\n",
    "\n",
    "\n",
    "\n",
    "        \"\"\" Find revenue \"\"\"\n",
    "        if dispatch < 0:\n",
    "            factor = 1/MLF\n",
    "\n",
    "        else:\n",
    "            factor = MLF\n",
    "\n",
    "        df.at[i,\"revenue\"] = math.ceil(price * dispatch * factor)\n",
    "        \n",
    "    \n",
    "    print(\"Total revenue in the dataset:\", df[\"revenue\"].sum())\n",
    "    print(\"Total days in the dataset:\", len(df)/48)\n",
    "    print(\"Revenue per day:\", df[\"revenue\"].sum() / (len(df)/48))\n",
    "    end = time.time()\n",
    "    print(\"Time Complexity for running the entire Algorithm 2: {time_taken}s\".format(time_taken = end-start))\n",
    "    \n",
    "    return df"
   ]
  },
  {
   "cell_type": "code",
   "execution_count": 12,
   "metadata": {},
   "outputs": [
    {
     "name": "stdout",
     "output_type": "stream",
     "text": [
      "Total revenue in the dataset: 62211575\n",
      "Total days in the dataset: 1322.0\n",
      "Revenue per day: 47058.68003025719\n",
      "Time Complexity for running the entire Algorithm 2: 3.465169668197632s\n"
     ]
    }
   ],
   "source": [
    "# Using mean\n",
    "alg = find_all(vic)"
   ]
  },
  {
   "cell_type": "code",
   "execution_count": 13,
   "metadata": {},
   "outputs": [
    {
     "name": "stdout",
     "output_type": "stream",
     "text": [
      "Total revenue in the dataset: 62211575\n",
      "Total days in the dataset: 1322.0\n",
      "Revenue per day: 47058.68003025719\n",
      "Time Complexity for running the entire Algorithm 2: 3.468128204345703s\n"
     ]
    }
   ],
   "source": [
    "# Using median\n",
    "alg = find_all(vic)"
   ]
  },
  {
   "cell_type": "code",
   "execution_count": 14,
   "metadata": {},
   "outputs": [
    {
     "name": "stdout",
     "output_type": "stream",
     "text": [
      "Total revenue in the dataset: 44471\n",
      "Total days in the dataset: 1.0\n",
      "Revenue per day: 44471.0\n",
      "Time Complexity for running the entire Algorithm 2: 0.01605534553527832s\n"
     ]
    }
   ],
   "source": [
    "deliverable3 = vic[(vic[TIME] >= \"2020-07-17 00:00:00\") & (vic[TIME] < \"2020-07-18 00:00:30\")]\n",
    "deliverable3 = deliverable3.reset_index(drop=True)\n",
    "del3 = find_all(deliverable3)"
   ]
  },
  {
   "cell_type": "markdown",
   "metadata": {},
   "source": [
    "# Include other factors (seasons) into our algorithm"
   ]
  }
 ],
 "metadata": {
  "kernelspec": {
   "display_name": "Python 3 (Anaconda 3)",
   "language": "python",
   "name": "python3"
  },
  "language_info": {
   "codemirror_mode": {
    "name": "ipython",
    "version": 3
   },
   "file_extension": ".py",
   "mimetype": "text/x-python",
   "name": "python",
   "nbconvert_exporter": "python",
   "pygments_lexer": "ipython3",
   "version": "3.8.2"
  }
 },
 "nbformat": 4,
 "nbformat_minor": 4
}
